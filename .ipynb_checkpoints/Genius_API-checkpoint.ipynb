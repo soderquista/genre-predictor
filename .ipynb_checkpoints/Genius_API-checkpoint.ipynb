{
 "cells": [
  {
   "cell_type": "code",
   "execution_count": 2,
   "id": "d7f7541f",
   "metadata": {},
   "outputs": [],
   "source": [
    "import requests\n",
    "import json\n",
    "import pandas as pd\n",
    "import numpy as np\n",
    "from pandas import json_normalize\n",
    "import lyricsgenius"
   ]
  },
  {
   "cell_type": "code",
   "execution_count": 3,
   "id": "c32344ca",
   "metadata": {},
   "outputs": [],
   "source": [
    "CLIENT_ID = 'mVxsgubdxvPwivQOYFWt5FCskAPVyDRl7ZQnt4PPvlBaPHfbTATSqoqt2KKVjji1'\n",
    "CLIENT_SECRET = 'u6bH4rznsJK0A80jHqIkJ3I6XxJr6IbtY0EX7T4aDDre5wCREj9ywuA5khlbyNM9AeKLoSFcYjYLA6vCTOKhPg'"
   ]
  },
  {
   "cell_type": "code",
   "execution_count": 4,
   "id": "8efb6a7c",
   "metadata": {},
   "outputs": [],
   "source": [
    "genius = lyricsgenius.Genius('3Ee9v1MsjFxlAwwA0OkZWNJEHWRBhYWqpp5TwwWk_UX70_P36TH7StPKeBLt88EI')"
   ]
  },
  {
   "cell_type": "code",
   "execution_count": 11,
   "id": "65db3c01",
   "metadata": {},
   "outputs": [
    {
     "name": "stdout",
     "output_type": "stream",
     "text": [
      "Searching for \"Nightclubbing\"...\n",
      "Done.\n"
     ]
    }
   ],
   "source": [
    "#Enter song name or Spotify track ID\n",
    "song = genius.search_song('Nightclubbing')"
   ]
  },
  {
   "cell_type": "code",
   "execution_count": 10,
   "id": "3f74e8a6",
   "metadata": {},
   "outputs": [
    {
     "name": "stdout",
     "output_type": "stream",
     "text": [
      "13 ContributorsNightclubbing Lyrics[Intro]\n",
      "\n",
      "[Verse 1]\n",
      "Nightclubbing, we're nightclubbing\n",
      "We're what's happening\n",
      "Nightclubbing, we're nightclubbing\n",
      "We're an ice machine\n",
      "We see people brand new people\n",
      "They're something to see\n",
      "\n",
      "[Chorus]\n",
      "Nightclubbing, we're nightclubbing\n",
      "Bright-white clubbing\n",
      "Oh isn't it wild?\n",
      "\n",
      "[Verse 2]\n",
      "Nightclubbing, we're nightclubbing\n",
      "We're walking through town\n",
      "Nightclubbing, we're nightclubbing\n",
      "We walk like a ghost\n",
      "We learn dances brand new dances\n",
      "Like the nuclear bomb\n",
      "\n",
      "[Chorus]\n",
      "When we're Nightclubbing\n",
      "Bright-white clubbing\n",
      "Oh isn't it wild?You might also like3Embed\n"
     ]
    }
   ],
   "source": [
    "# Print\n",
    "print(song.lyrics)"
   ]
  },
  {
   "cell_type": "code",
   "execution_count": null,
   "id": "906593b2",
   "metadata": {},
   "outputs": [],
   "source": []
  }
 ],
 "metadata": {
  "kernelspec": {
   "display_name": "Python 3 (ipykernel)",
   "language": "python",
   "name": "python3"
  },
  "language_info": {
   "codemirror_mode": {
    "name": "ipython",
    "version": 3
   },
   "file_extension": ".py",
   "mimetype": "text/x-python",
   "name": "python",
   "nbconvert_exporter": "python",
   "pygments_lexer": "ipython3",
   "version": "3.7.7"
  }
 },
 "nbformat": 4,
 "nbformat_minor": 5
}
