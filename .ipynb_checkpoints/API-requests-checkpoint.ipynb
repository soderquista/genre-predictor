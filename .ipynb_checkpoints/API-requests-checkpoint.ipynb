{
 "cells": [
  {
   "cell_type": "code",
   "execution_count": 8,
   "metadata": {},
   "outputs": [],
   "source": [
    "# Dependencies\n",
    "import requests\n",
    "from config import api_key\n",
    "import json"
   ]
  },
  {
   "cell_type": "code",
   "execution_count": 14,
   "metadata": {},
   "outputs": [],
   "source": [
    "# Build query URL and request your results in Celsius\n",
    "url = \"http://api.openweathermap.org/data/2.5/weather?\"\n",
    "\n",
    "city = \"Bujumbura\"\n",
    "\n",
    "units = \"Celsius\"\n",
    "\n",
    "query_url = f\"{url}appid={api_key}&q={city}&units={units}\"\n",
    "\n",
    "# Get weather data\n",
    "json_req = requests.get(query_url)\n"
   ]
  },
  {
   "cell_type": "code",
   "execution_count": 15,
   "metadata": {},
   "outputs": [
    {
     "name": "stdout",
     "output_type": "stream",
     "text": [
      "{\n",
      "    \"base\": \"stations\",\n",
      "    \"clouds\": {\n",
      "        \"all\": 97\n",
      "    },\n",
      "    \"cod\": 200,\n",
      "    \"coord\": {\n",
      "        \"lat\": -3.3822,\n",
      "        \"lon\": 29.3644\n",
      "    },\n",
      "    \"dt\": 1675219665,\n",
      "    \"id\": 425378,\n",
      "    \"main\": {\n",
      "        \"feels_like\": 293.71,\n",
      "        \"grnd_level\": 925,\n",
      "        \"humidity\": 85,\n",
      "        \"pressure\": 1015,\n",
      "        \"sea_level\": 1015,\n",
      "        \"temp\": 293.41,\n",
      "        \"temp_max\": 293.41,\n",
      "        \"temp_min\": 293.41\n",
      "    },\n",
      "    \"name\": \"Bujumbura\",\n",
      "    \"rain\": {\n",
      "        \"1h\": 0.32\n",
      "    },\n",
      "    \"sys\": {\n",
      "        \"country\": \"BI\",\n",
      "        \"sunrise\": 1675224499,\n",
      "        \"sunset\": 1675268621\n",
      "    },\n",
      "    \"timezone\": 7200,\n",
      "    \"visibility\": 10000,\n",
      "    \"weather\": [\n",
      "        {\n",
      "            \"description\": \"light rain\",\n",
      "            \"icon\": \"10n\",\n",
      "            \"id\": 500,\n",
      "            \"main\": \"Rain\"\n",
      "        }\n",
      "    ],\n",
      "    \"wind\": {\n",
      "        \"deg\": 135,\n",
      "        \"gust\": 1.47,\n",
      "        \"speed\": 0.82\n",
      "    }\n",
      "}\n"
     ]
    }
   ],
   "source": [
    "# Get temperature from JSON response\n",
    "data = json_req.json()\n",
    "print(json.dumps(data,indent=4,sort_keys=True))"
   ]
  },
  {
   "cell_type": "code",
   "execution_count": null,
   "metadata": {},
   "outputs": [],
   "source": [
    "# Report temperature\n",
    "print(f'The temperature in {city} is {data[\"main\"][\"temp\"]} degrees Celsius.')"
   ]
  }
 ],
 "metadata": {
  "kernelspec": {
   "display_name": "Python 3 (ipykernel)",
   "language": "python",
   "name": "python3"
  },
  "language_info": {
   "codemirror_mode": {
    "name": "ipython",
    "version": 3
   },
   "file_extension": ".py",
   "mimetype": "text/x-python",
   "name": "python",
   "nbconvert_exporter": "python",
   "pygments_lexer": "ipython3",
   "version": "3.7.7"
  },
  "varInspector": {
   "cols": {
    "lenName": 16,
    "lenType": 16,
    "lenVar": 40
   },
   "kernels_config": {
    "python": {
     "delete_cmd_postfix": "",
     "delete_cmd_prefix": "del ",
     "library": "var_list.py",
     "varRefreshCmd": "print(var_dic_list())"
    },
    "r": {
     "delete_cmd_postfix": ") ",
     "delete_cmd_prefix": "rm(",
     "library": "var_list.r",
     "varRefreshCmd": "cat(var_dic_list()) "
    }
   },
   "types_to_exclude": [
    "module",
    "function",
    "builtin_function_or_method",
    "instance",
    "_Feature"
   ],
   "window_display": false
  }
 },
 "nbformat": 4,
 "nbformat_minor": 2
}
