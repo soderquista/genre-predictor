{
 "cells": [
  {
   "cell_type": "code",
   "execution_count": 1,
   "id": "381be25f",
   "metadata": {},
   "outputs": [],
   "source": [
    "import requests\n",
    "import json\n",
    "import pandas as pd\n",
    "import numpy as np\n",
    "from pandas import json_normalize\n",
    "import lyricsgenius"
   ]
  },
  {
   "cell_type": "code",
   "execution_count": 2,
   "id": "a5d94bf1",
   "metadata": {},
   "outputs": [],
   "source": [
    "CLIENT_ID = 'mVxsgubdxvPwivQOYFWt5FCskAPVyDRl7ZQnt4PPvlBaPHfbTATSqoqt2KKVjji1'\n",
    "CLIENT_SECRET = 'u6bH4rznsJK0A80jHqIkJ3I6XxJr6IbtY0EX7T4aDDre5wCREj9ywuA5khlbyNM9AeKLoSFcYjYLA6vCTOKhPg'"
   ]
  },
  {
   "cell_type": "code",
   "execution_count": 3,
   "id": "e8b4ea83",
   "metadata": {},
   "outputs": [],
   "source": [
    "genius = lyricsgenius.Genius('3Ee9v1MsjFxlAwwA0OkZWNJEHWRBhYWqpp5TwwWk_UX70_P36TH7StPKeBLt88EI')"
   ]
  },
  {
   "cell_type": "code",
   "execution_count": 4,
   "id": "e843ea4d",
   "metadata": {},
   "outputs": [
    {
     "name": "stdout",
     "output_type": "stream",
     "text": [
      "Searching for \"oops!... i did it again\"...\n",
      "Done.\n"
     ]
    }
   ],
   "source": [
    "#Enter song name or Spotify track ID\n",
    "song = genius.search_song('oops!... i did it again')"
   ]
  },
  {
   "cell_type": "code",
   "execution_count": 5,
   "id": "cb14cea7",
   "metadata": {},
   "outputs": [],
   "source": [
    "artist = song.artist"
   ]
  },
  {
   "cell_type": "code",
   "execution_count": 6,
   "id": "3b45210a",
   "metadata": {},
   "outputs": [
    {
     "name": "stdout",
     "output_type": "stream",
     "text": [
      "Britney Spears\n"
     ]
    }
   ],
   "source": [
    "# Print\n",
    "print(artist)"
   ]
  },
  {
   "cell_type": "code",
   "execution_count": 8,
   "id": "5143e8b5",
   "metadata": {},
   "outputs": [
    {
     "name": "stdout",
     "output_type": "stream",
     "text": [
      "72 ContributorsOops!... I Did It Again Lyrics[Intro]\n",
      "Mmm, yeah\n",
      "Yeah, yeah, yeah, yeah, yeah, yeah\n",
      "Yeah, yeah, yeah, yeah, yeah, yeah\n",
      "\n",
      "[Verse 1]\n",
      "I think I did it again\n",
      "I made you believe we're more than just friends\n",
      "Oh, baby, it might seem like a crush\n",
      "But it doesn't mean that I'm serious\n",
      "\n",
      "[Pre-Chorus]\n",
      "'Cause to lose all my senses\n",
      "That is just so typically me\n",
      "Ooh, baby, baby\n",
      "\n",
      "[Chorus]\n",
      "Oops, I did it again\n",
      "I played with your heart\n",
      "Got lost in the game\n",
      "Oh, baby, baby\n",
      "Oops, you think I'm in love\n",
      "That I'm sent from above\n",
      "I'm not that innocent\n",
      "\n",
      "[Verse 2]\n",
      "You see, my problem is this\n",
      "I'm dreaming away\n",
      "Wishing that heroes, they truly exist\n",
      "I cry watching the days\n",
      "Can't you see I'm a fool in so many ways?\n",
      "You might also like[Pre-Chorus]\n",
      "But to lose all my senses\n",
      "That is just so typically me\n",
      "Oh, baby, oh\n",
      "\n",
      "[Chorus]\n",
      "Oops, I did it again\n",
      "I played with your heart\n",
      "Got lost in the game\n",
      "Oh, baby, baby\n",
      "Oops, you think I'm in love\n",
      "That I'm sent from above\n",
      "I'm not that innocent\n",
      "\n",
      "[Post-Chorus]\n",
      "Yeah, yeah, yeah, yeah, yeah, yeah\n",
      "Yeah, yeah, yeah, yeah, yeah, yeah\n",
      "\n",
      "[Interlude]\n",
      "\"All aboard!\"\n",
      "\"Britney! Before you go, there's something I want you to have.\"\n",
      "\"Oh, it's beautiful! But wait a minute, isn't this...?\"\n",
      "\"Yeah, yes, it is.\"\n",
      "\"But I thought the old lady dropped it into the ocean in the end.\"\n",
      "\"Well, baby, I went down and got it for ya.\"\n",
      "\"Aw, you shouldn't have!\"\n",
      "[Bridge]\n",
      "Oops, I did it again to your heart\n",
      "Got lost in this game, oh, baby (Baby)\n",
      "Oops, you (Oops, you)\n",
      "Think that I'm sent from above\n",
      "I'm not that innocent\n",
      "\n",
      "[Chorus]\n",
      "Oops, I did it again\n",
      "I played with your heart\n",
      "Got lost in the game (Yeah, yeah)\n",
      "Oh, baby, baby\n",
      "Oops, you think I'm in love\n",
      "That I'm sent from above (Yeah yeah)\n",
      "I'm not that innocent (Not that innocent, babe)\n",
      "Oops, I (Oops, I) did it again (Did it again to your heart)\n",
      "I played with your heart (Got lost)\n",
      "Got lost in the game (In this game, oh, baby)\n",
      "Oh, baby, baby\n",
      "Oops, you (Oops, you) think I'm in love (Think that I'm sent)\n",
      "That I'm sent from above\n",
      "I'm not that innocent25Embed\n"
     ]
    }
   ],
   "source": [
    "print(song.lyrics)"
   ]
  },
  {
   "cell_type": "code",
   "execution_count": null,
   "id": "3d5bffb8",
   "metadata": {},
   "outputs": [],
   "source": []
  }
 ],
 "metadata": {
  "kernelspec": {
   "display_name": "Python 3 (ipykernel)",
   "language": "python",
   "name": "python3"
  },
  "language_info": {
   "codemirror_mode": {
    "name": "ipython",
    "version": 3
   },
   "file_extension": ".py",
   "mimetype": "text/x-python",
   "name": "python",
   "nbconvert_exporter": "python",
   "pygments_lexer": "ipython3",
   "version": "3.7.7"
  }
 },
 "nbformat": 4,
 "nbformat_minor": 5
}
