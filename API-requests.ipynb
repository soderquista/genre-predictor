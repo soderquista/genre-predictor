{
 "cells": [
  {
   "cell_type": "code",
   "execution_count": 84,
   "metadata": {},
   "outputs": [],
   "source": [
    "# Dependencies\n",
    "import requests\n",
    "from config import api_key, CLIENT_ID, CLIENT_SECRET\n",
    "import json\n",
    "import pprint as pp\n",
    "import pandas as pd"
   ]
  },
  {
   "cell_type": "code",
   "execution_count": 96,
   "metadata": {},
   "outputs": [],
   "source": [
    "#Playlist for reference: https://open.spotify.com/playlist/20VO4SBwxES4tXbp1nvjk6?si=2kxhbktBSPua1xQd0xbq3w\n",
    "AUTH_URL = 'https://accounts.spotify.com/api/token'\n",
    "\n",
    "# POST\n",
    "auth_response = requests.post(AUTH_URL, {\n",
    "    'grant_type': 'client_credentials',\n",
    "    'client_id': CLIENT_ID,\n",
    "    'client_secret': CLIENT_SECRET,\n",
    "})\n",
    "\n",
    "# convert the response to JSON\n",
    "auth_response_data = auth_response.json()\n",
    "\n",
    "# save the access token\n",
    "access_token = auth_response_data['access_token']"
   ]
  },
  {
   "cell_type": "code",
   "execution_count": 97,
   "metadata": {},
   "outputs": [],
   "source": [
    "# Build query URL\n",
    "\n",
    "headers = {\n",
    "    'Authorization': 'Bearer {token}'.format(token=access_token)\n",
    "}\n",
    "\n",
    "url = \"https://api.spotify.com/v1/\"\n",
    "\n",
    "play_id = \"20VO4SBwxES4tXbp1nvjk6?si=2kxhbktBSPua1xQd0xbq3w\"\n",
    "\n",
    "query_url = url+'playlists/'+play_id+'tracks'"
   ]
  },
  {
   "cell_type": "code",
   "execution_count": 98,
   "metadata": {},
   "outputs": [],
   "source": [
    "# Get playlist data\n",
    "json_req = requests.get(query_url, headers=headers)\n",
    "response = json_req.json()\n",
    "\n",
    "track_ids = []\n",
    "artist_ids = []\n",
    "track_names = []\n",
    "artist_names = []\n",
    "genres =[]"
   ]
  },
  {
   "cell_type": "code",
   "execution_count": 99,
   "metadata": {},
   "outputs": [
    {
     "ename": "KeyError",
     "evalue": "'genres'",
     "output_type": "error",
     "traceback": [
      "\u001b[1;31m---------------------------------------------------------------------------\u001b[0m",
      "\u001b[1;31mKeyError\u001b[0m                                  Traceback (most recent call last)",
      "\u001b[1;32m~\\AppData\\Local\\Temp\\ipykernel_19820\\3517170591.py\u001b[0m in \u001b[0;36m<module>\u001b[1;34m\u001b[0m\n\u001b[0;32m      4\u001b[0m     \u001b[0malbum_names\u001b[0m\u001b[1;33m.\u001b[0m\u001b[0mappend\u001b[0m\u001b[1;33m(\u001b[0m\u001b[0mitem\u001b[0m\u001b[1;33m[\u001b[0m\u001b[1;34m'track'\u001b[0m\u001b[1;33m]\u001b[0m\u001b[1;33m[\u001b[0m\u001b[1;34m'album'\u001b[0m\u001b[1;33m]\u001b[0m\u001b[1;33m[\u001b[0m\u001b[1;34m'name'\u001b[0m\u001b[1;33m]\u001b[0m\u001b[1;33m)\u001b[0m\u001b[1;33m\u001b[0m\u001b[1;33m\u001b[0m\u001b[0m\n\u001b[0;32m      5\u001b[0m     \u001b[0malbum_ids\u001b[0m\u001b[1;33m.\u001b[0m\u001b[0mappend\u001b[0m\u001b[1;33m(\u001b[0m\u001b[0mitem\u001b[0m\u001b[1;33m[\u001b[0m\u001b[1;34m'track'\u001b[0m\u001b[1;33m]\u001b[0m\u001b[1;33m[\u001b[0m\u001b[1;34m'album'\u001b[0m\u001b[1;33m]\u001b[0m\u001b[1;33m[\u001b[0m\u001b[1;34m'id'\u001b[0m\u001b[1;33m]\u001b[0m\u001b[1;33m)\u001b[0m\u001b[1;33m\u001b[0m\u001b[1;33m\u001b[0m\u001b[0m\n\u001b[1;32m----> 6\u001b[1;33m     \u001b[0mgenres\u001b[0m\u001b[1;33m.\u001b[0m\u001b[0mappend\u001b[0m\u001b[1;33m(\u001b[0m\u001b[0mitem\u001b[0m\u001b[1;33m[\u001b[0m\u001b[1;34m'track'\u001b[0m\u001b[1;33m]\u001b[0m\u001b[1;33m[\u001b[0m\u001b[1;34m'artists'\u001b[0m\u001b[1;33m]\u001b[0m\u001b[1;33m[\u001b[0m\u001b[1;36m0\u001b[0m\u001b[1;33m]\u001b[0m\u001b[1;33m[\u001b[0m\u001b[1;34m'genres'\u001b[0m\u001b[1;33m]\u001b[0m\u001b[1;33m)\u001b[0m\u001b[1;33m\u001b[0m\u001b[1;33m\u001b[0m\u001b[0m\n\u001b[0m\u001b[0;32m      7\u001b[0m \u001b[0mdf\u001b[0m \u001b[1;33m=\u001b[0m \u001b[0mpd\u001b[0m\u001b[1;33m.\u001b[0m\u001b[0mDataFrame\u001b[0m\u001b[1;33m(\u001b[0m\u001b[1;33m{\u001b[0m \u001b[1;34m'Track Name'\u001b[0m\u001b[1;33m:\u001b[0m\u001b[0mtrack_names\u001b[0m\u001b[1;33m,\u001b[0m \u001b[1;34m'Album Name'\u001b[0m\u001b[1;33m:\u001b[0m\u001b[0malbum_names\u001b[0m\u001b[1;33m,\u001b[0m \u001b[1;34m'Track ID'\u001b[0m\u001b[1;33m:\u001b[0m\u001b[0mtrack_ids\u001b[0m\u001b[1;33m,\u001b[0m \u001b[1;34m'Album ID'\u001b[0m\u001b[1;33m:\u001b[0m \u001b[0malbum_ids\u001b[0m\u001b[1;33m,\u001b[0m  \u001b[1;34m'Genres'\u001b[0m\u001b[1;33m:\u001b[0m\u001b[0mgenres\u001b[0m\u001b[1;33m}\u001b[0m\u001b[1;33m)\u001b[0m\u001b[1;33m\u001b[0m\u001b[1;33m\u001b[0m\u001b[0m\n",
      "\u001b[1;31mKeyError\u001b[0m: 'genres'"
     ]
    }
   ],
   "source": [
    "for item in response['tracks']['items']:\n",
    "    track_names.append(item['track']['name'])\n",
    "    track_ids.append(item['track']['id'])\n",
    "    album_names.append(item['track']['album']['name'])\n",
    "    album_ids.append(item['track']['album']['id'])\n",
    "    genres.append(item['track']['artists'][0]['genres'])\n",
    "df = pd.DataFrame({ 'Track Name':track_names, 'Album Name':album_names, 'Track ID':track_ids, 'Album ID': album_ids,  'Genres':genres})\n"
   ]
  },
  {
   "cell_type": "code",
   "execution_count": 83,
   "metadata": {},
   "outputs": [
    {
     "name": "stdout",
     "output_type": "stream",
     "text": [
      "{'external_urls': {'spotify': 'https://open.spotify.com/artist/2YZyLoL8N0Wb9xBt1NhZWg'},\n",
      " 'followers': {'href': None, 'total': 24034094},\n",
      " 'genres': ['conscious hip hop', 'hip hop', 'rap', 'west coast rap'],\n",
      " 'href': 'https://api.spotify.com/v1/artists/2YZyLoL8N0Wb9xBt1NhZWg',\n",
      " 'id': '2YZyLoL8N0Wb9xBt1NhZWg',\n",
      " 'images': [{'height': 640,\n",
      "             'url': 'https://i.scdn.co/image/ab6761610000e5eb437b9e2a82505b3d93ff1022',\n",
      "             'width': 640},\n",
      "            {'height': 320,\n",
      "             'url': 'https://i.scdn.co/image/ab67616100005174437b9e2a82505b3d93ff1022',\n",
      "             'width': 320},\n",
      "            {'height': 160,\n",
      "             'url': 'https://i.scdn.co/image/ab6761610000f178437b9e2a82505b3d93ff1022',\n",
      "             'width': 160}],\n",
      " 'name': 'Kendrick Lamar',\n",
      " 'popularity': 89,\n",
      " 'type': 'artist',\n",
      " 'uri': 'spotify:artist:2YZyLoL8N0Wb9xBt1NhZWg'}\n"
     ]
    }
   ],
   "source": [
    "# Get Genre from each Album ID in separate JSON request\n",
    "genres = []\n",
    "\n",
    "#for album in album_ids:\n",
    "#    query_url = url+'albums/'+album\n",
    "#    json_req = requests.get(query_url, headers=headers)\n",
    "#    response = json_req.json()\n",
    "#    genres.append(response['genres'])\n",
    "query_url = url+'artists/'+'2YZyLoL8N0Wb9xBt1NhZWg'\n",
    "json_req = requests.get(query_url, headers=headers)\n",
    "response = json_req.json()\n",
    "pp.pprint(response)\n",
    "#genres.append(response['album']['genres'])\n",
    "#print(genres)"
   ]
  },
  {
   "cell_type": "code",
   "execution_count": null,
   "metadata": {},
   "outputs": [],
   "source": [
    "# Report temperature\n",
    "print(f'The temperature in {city} is {data[\"main\"][\"temp\"]} degrees Celsius.')"
   ]
  }
 ],
 "metadata": {
  "kernelspec": {
   "display_name": "Python 3 (ipykernel)",
   "language": "python",
   "name": "python3"
  },
  "language_info": {
   "codemirror_mode": {
    "name": "ipython",
    "version": 3
   },
   "file_extension": ".py",
   "mimetype": "text/x-python",
   "name": "python",
   "nbconvert_exporter": "python",
   "pygments_lexer": "ipython3",
   "version": "3.7.7"
  },
  "varInspector": {
   "cols": {
    "lenName": 16,
    "lenType": 16,
    "lenVar": 40
   },
   "kernels_config": {
    "python": {
     "delete_cmd_postfix": "",
     "delete_cmd_prefix": "del ",
     "library": "var_list.py",
     "varRefreshCmd": "print(var_dic_list())"
    },
    "r": {
     "delete_cmd_postfix": ") ",
     "delete_cmd_prefix": "rm(",
     "library": "var_list.r",
     "varRefreshCmd": "cat(var_dic_list()) "
    }
   },
   "types_to_exclude": [
    "module",
    "function",
    "builtin_function_or_method",
    "instance",
    "_Feature"
   ],
   "window_display": false
  }
 },
 "nbformat": 4,
 "nbformat_minor": 2
}
