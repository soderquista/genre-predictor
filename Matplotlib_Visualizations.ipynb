{
 "cells": [
  {
   "cell_type": "code",
   "execution_count": 9,
   "id": "d42ae741",
   "metadata": {},
   "outputs": [],
   "source": [
    "import numpy as np\n",
    "import pandas as pd\n",
    "import matplotlib.pyplot as plt"
   ]
  },
  {
   "cell_type": "code",
   "execution_count": 3,
   "id": "86450546",
   "metadata": {},
   "outputs": [],
   "source": [
    "df = pd.read_json('distinct_lyric_df.json')"
   ]
  },
  {
   "cell_type": "code",
   "execution_count": 4,
   "id": "51e9431f",
   "metadata": {},
   "outputs": [
    {
     "data": {
      "text/html": [
       "<div>\n",
       "<style scoped>\n",
       "    .dataframe tbody tr th:only-of-type {\n",
       "        vertical-align: middle;\n",
       "    }\n",
       "\n",
       "    .dataframe tbody tr th {\n",
       "        vertical-align: top;\n",
       "    }\n",
       "\n",
       "    .dataframe thead th {\n",
       "        text-align: right;\n",
       "    }\n",
       "</style>\n",
       "<table border=\"1\" class=\"dataframe\">\n",
       "  <thead>\n",
       "    <tr style=\"text-align: right;\">\n",
       "      <th></th>\n",
       "      <th>Track Name</th>\n",
       "      <th>Artist</th>\n",
       "      <th>Track ID</th>\n",
       "      <th>Genres</th>\n",
       "      <th>Acousticness</th>\n",
       "      <th>Danceability</th>\n",
       "      <th>Energy</th>\n",
       "      <th>Instrumentalness</th>\n",
       "      <th>Liveness</th>\n",
       "      <th>Loudness</th>\n",
       "      <th>Speechiness</th>\n",
       "      <th>Tempo</th>\n",
       "      <th>Valence</th>\n",
       "      <th>Lyrics</th>\n",
       "      <th>Distinct Word Count</th>\n",
       "    </tr>\n",
       "  </thead>\n",
       "  <tbody>\n",
       "    <tr>\n",
       "      <th>0</th>\n",
       "      <td>The Real Slim Shady</td>\n",
       "      <td>Eminem</td>\n",
       "      <td>3yfqSUWxFvZELEM4PmlwIR</td>\n",
       "      <td>1</td>\n",
       "      <td>0.0302</td>\n",
       "      <td>0.949</td>\n",
       "      <td>0.661</td>\n",
       "      <td>0.000000</td>\n",
       "      <td>0.0454</td>\n",
       "      <td>-4.244</td>\n",
       "      <td>0.0572</td>\n",
       "      <td>104.504</td>\n",
       "      <td>0.760</td>\n",
       "      <td>\\nMay I have your attention please\\nMay I hav...</td>\n",
       "      <td>363</td>\n",
       "    </tr>\n",
       "    <tr>\n",
       "      <th>1</th>\n",
       "      <td>MotorSport</td>\n",
       "      <td>Migos</td>\n",
       "      <td>4wFjTWCunQFKtukqrNijEt</td>\n",
       "      <td>1</td>\n",
       "      <td>0.0305</td>\n",
       "      <td>0.904</td>\n",
       "      <td>0.518</td>\n",
       "      <td>0.000000</td>\n",
       "      <td>0.3250</td>\n",
       "      <td>-5.320</td>\n",
       "      <td>0.1830</td>\n",
       "      <td>137.996</td>\n",
       "      <td>0.188</td>\n",
       "      <td>\\nYeah woo yeah skrrt\\nM-M-M-Murda\\n\\n \\nMoto...</td>\n",
       "      <td>407</td>\n",
       "    </tr>\n",
       "    <tr>\n",
       "      <th>2</th>\n",
       "      <td>In Da Club</td>\n",
       "      <td>50 Cent</td>\n",
       "      <td>5Mcvgt2GbxxCp6cz3Kfjey</td>\n",
       "      <td>1</td>\n",
       "      <td>0.3250</td>\n",
       "      <td>0.906</td>\n",
       "      <td>0.663</td>\n",
       "      <td>0.000000</td>\n",
       "      <td>0.0883</td>\n",
       "      <td>-3.955</td>\n",
       "      <td>0.3550</td>\n",
       "      <td>90.042</td>\n",
       "      <td>0.847</td>\n",
       "      <td>\\n\\n \\nGo go\\nGo go go go\\nGo shawty it's you...</td>\n",
       "      <td>227</td>\n",
       "    </tr>\n",
       "    <tr>\n",
       "      <th>3</th>\n",
       "      <td>Gangsta's Paradise</td>\n",
       "      <td>Coolio</td>\n",
       "      <td>1DIXPcTDzTj8ZMHt3PDt8p</td>\n",
       "      <td>1</td>\n",
       "      <td>0.0655</td>\n",
       "      <td>0.647</td>\n",
       "      <td>0.514</td>\n",
       "      <td>0.000000</td>\n",
       "      <td>0.3980</td>\n",
       "      <td>-10.050</td>\n",
       "      <td>0.0593</td>\n",
       "      <td>79.975</td>\n",
       "      <td>0.386</td>\n",
       "      <td>\\n\\n \\nAs I walk through the valley of the sh...</td>\n",
       "      <td>179</td>\n",
       "    </tr>\n",
       "    <tr>\n",
       "      <th>4</th>\n",
       "      <td>rockstar</td>\n",
       "      <td>Post Malone</td>\n",
       "      <td>19bX4zmC2zDben2ldhoRB3</td>\n",
       "      <td>1</td>\n",
       "      <td>0.1450</td>\n",
       "      <td>0.594</td>\n",
       "      <td>0.507</td>\n",
       "      <td>0.000871</td>\n",
       "      <td>0.1320</td>\n",
       "      <td>-6.141</td>\n",
       "      <td>0.0816</td>\n",
       "      <td>159.729</td>\n",
       "      <td>0.137</td>\n",
       "      <td>\\nHahahahaha\\nTank God\\nAyy ayy\\n\\n \\nI've be...</td>\n",
       "      <td>198</td>\n",
       "    </tr>\n",
       "  </tbody>\n",
       "</table>\n",
       "</div>"
      ],
      "text/plain": [
       "            Track Name       Artist                Track ID  Genres  \\\n",
       "0  The Real Slim Shady       Eminem  3yfqSUWxFvZELEM4PmlwIR       1   \n",
       "1           MotorSport        Migos  4wFjTWCunQFKtukqrNijEt       1   \n",
       "2           In Da Club      50 Cent  5Mcvgt2GbxxCp6cz3Kfjey       1   \n",
       "3   Gangsta's Paradise       Coolio  1DIXPcTDzTj8ZMHt3PDt8p       1   \n",
       "4             rockstar  Post Malone  19bX4zmC2zDben2ldhoRB3       1   \n",
       "\n",
       "   Acousticness  Danceability  Energy  Instrumentalness  Liveness  Loudness  \\\n",
       "0        0.0302         0.949   0.661          0.000000    0.0454    -4.244   \n",
       "1        0.0305         0.904   0.518          0.000000    0.3250    -5.320   \n",
       "2        0.3250         0.906   0.663          0.000000    0.0883    -3.955   \n",
       "3        0.0655         0.647   0.514          0.000000    0.3980   -10.050   \n",
       "4        0.1450         0.594   0.507          0.000871    0.1320    -6.141   \n",
       "\n",
       "   Speechiness    Tempo  Valence  \\\n",
       "0       0.0572  104.504    0.760   \n",
       "1       0.1830  137.996    0.188   \n",
       "2       0.3550   90.042    0.847   \n",
       "3       0.0593   79.975    0.386   \n",
       "4       0.0816  159.729    0.137   \n",
       "\n",
       "                                              Lyrics  Distinct Word Count  \n",
       "0   \\nMay I have your attention please\\nMay I hav...                  363  \n",
       "1   \\nYeah woo yeah skrrt\\nM-M-M-Murda\\n\\n \\nMoto...                  407  \n",
       "2   \\n\\n \\nGo go\\nGo go go go\\nGo shawty it's you...                  227  \n",
       "3   \\n\\n \\nAs I walk through the valley of the sh...                  179  \n",
       "4   \\nHahahahaha\\nTank God\\nAyy ayy\\n\\n \\nI've be...                  198  "
      ]
     },
     "execution_count": 4,
     "metadata": {},
     "output_type": "execute_result"
    }
   ],
   "source": [
    "df.head(5)"
   ]
  },
  {
   "cell_type": "code",
   "execution_count": 6,
   "id": "9e38a5bd",
   "metadata": {},
   "outputs": [],
   "source": [
    "x = df['Energy']\n",
    "y = df['Loudness']"
   ]
  },
  {
   "cell_type": "code",
   "execution_count": 12,
   "id": "1ef95a18",
   "metadata": {},
   "outputs": [
    {
     "data": {
      "image/png": "[encoded data removed]",
      "text/plain": [
       "<Figure size 432x288 with 1 Axes>"
      ]
     },
     "metadata": {
      "needs_background": "light"
     },
     "output_type": "display_data"
    }
   ],
   "source": [
    "slope, intercept = np.polyfit(x, y, 1)\n",
    "plt.scatter(x, y)\n",
    "plt.xlabel('Energy')\n",
    "plt.ylabel(\"Loudness\")\n",
    "plt.plot(x, slope*x + intercept, color= 'red')\n",
    "plt.savefig('Energy_loudness.png')\n",
    "plt.show()"
   ]
  },
  {
   "cell_type": "markdown",
   "id": "2f5c7d95",
   "metadata": {},
   "source": [
    "There is a positive correlation between energy and loudness."
   ]
  },
  {
   "cell_type": "code",
   "execution_count": 13,
   "id": "c7114d35",
   "metadata": {
    "scrolled": true
   },
   "outputs": [
    {
     "data": {
      "image/png": "[encoded data removed]",
      "text/plain": [
       "<Figure size 432x288 with 1 Axes>"
      ]
     },
     "metadata": {
      "needs_background": "light"
     },
     "output_type": "display_data"
    }
   ],
   "source": [
    "x = df['Energy']\n",
    "y = df['Acousticness']\n",
    "slope, intercept = np.polyfit(x, y, 1)\n",
    "plt.scatter(x, y)\n",
    "plt.xlabel('Energy')\n",
    "plt.ylabel(\"Acousticness\")\n",
    "plt.plot(x, slope*x + intercept, color= 'red')\n",
    "plt.savefig('Energy_acousticness.png')\n",
    "plt.show()"
   ]
  },
  {
   "cell_type": "markdown",
   "id": "b32758da",
   "metadata": {},
   "source": [
    "There is a negative correlation between acousticness and energy."
   ]
  },
  {
   "cell_type": "code",
   "execution_count": null,
   "id": "7b215295",
   "metadata": {},
   "outputs": [],
   "source": []
  }
 ],
 "metadata": {
  "kernelspec": {
   "display_name": "Python 3 (ipykernel)",
   "language": "python",
   "name": "python3"
  },
  "language_info": {
   "codemirror_mode": {
    "name": "ipython",
    "version": 3
   },
   "file_extension": ".py",
   "mimetype": "text/x-python",
   "name": "python",
   "nbconvert_exporter": "python",
   "pygments_lexer": "ipython3",
   "version": "3.7.7"
  }
 },
 "nbformat": 4,
 "nbformat_minor": 5
}
